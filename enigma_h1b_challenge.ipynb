{
 "cells": [
  {
   "cell_type": "code",
   "execution_count": 1,
   "metadata": {
    "collapsed": false
   },
   "outputs": [
    {
     "data": {
      "text/plain": [
       "'\\nEnigma Data Science Challenge\\n\\nJunia Zhang | 01.08.2016\\n\\nFor this exercise, you will be working with the H1B visa application data, one of the most popular datasets in Enigma. \\nAll questions refer to the 2014 data. Please include your code along with your answers.\\n'"
      ]
     },
     "execution_count": 1,
     "metadata": {},
     "output_type": "execute_result"
    }
   ],
   "source": [
    "\"\"\"\n",
    "Enigma Data Science Challenge\n",
    "\n",
    "Junia Zhang | 01.08.2016\n",
    "\n",
    "For this exercise, you will be working with the H1B visa application data, one of the most popular datasets in Enigma. \n",
    "All questions refer to the 2014 data. Please include your code along with your answers.\n",
    "\"\"\""
   ]
  },
  {
   "cell_type": "code",
   "execution_count": 2,
   "metadata": {
    "collapsed": false
   },
   "outputs": [],
   "source": [
    "import pandas as pd\n",
    "import numpy as np\n",
    "import math\n",
    "import matplotlib.pyplot as plt\n",
    "import seaborn as sns"
   ]
  },
  {
   "cell_type": "markdown",
   "metadata": {},
   "source": [
    "### Load in 2014 H1B visa application data\n",
    "#### Source: https://app.enigma.io/table/us.gov.dol.oflc.h1b.2014"
   ]
  },
  {
   "cell_type": "code",
   "execution_count": 3,
   "metadata": {
    "collapsed": true
   },
   "outputs": [],
   "source": [
    "df = pd.read_csv(\"enigma-us.gov.dol.oflc.h1b.2014-data.csv\")"
   ]
  },
  {
   "cell_type": "markdown",
   "metadata": {},
   "source": [
    "### Section 1: Warm Up (1/4)"
   ]
  },
  {
   "cell_type": "markdown",
   "metadata": {},
   "source": [
    "### 1.1 - NYC H-1B visa applications by company\n",
    "* Compare Total Workers by Employer Name \n",
    "* Filter based on whether Work City Location 1 OR Work City Location 2 contains 'New York' (+ variations)"
   ]
  },
  {
   "cell_type": "code",
   "execution_count": 5,
   "metadata": {
    "collapsed": false
   },
   "outputs": [
    {
     "data": {
      "text/plain": [
       "array(['lca_case_number', 'status', 'lca_case_submit', 'decision_date',\n",
       "       'visa_class', 'lca_case_employment_start_date',\n",
       "       'lca_case_employment_end_date', 'lca_case_employer_name',\n",
       "       'lca_case_employer_address', 'lca_case_employer_city',\n",
       "       'lca_case_employer_state', 'lca_case_employer_postal_code',\n",
       "       'lca_case_soc_code', 'lca_case_soc_name', 'lca_case_job_title',\n",
       "       'lca_case_wage_rate_from', 'lca_case_wage_rate_to',\n",
       "       'lca_case_wage_rate_unit', 'full_time_pos', 'total_workers',\n",
       "       'lca_case_workloc1_city', 'lca_case_workloc1_state', 'pw_1',\n",
       "       'pw_unit_1', 'pw_source_1', 'other_wage_source_1',\n",
       "       'yr_source_pub_1', 'lca_case_workloc2_city',\n",
       "       'lca_case_workloc2_state', 'pw_2', 'pw_unit_2', 'pw_source_2',\n",
       "       'other_wage_source_2', 'yr_source_pub_2', 'lca_case_naics_code',\n",
       "       'serialid'], dtype=object)"
      ]
     },
     "execution_count": 5,
     "metadata": {},
     "output_type": "execute_result"
    }
   ],
   "source": [
    "df.columns.values"
   ]
  },
  {
   "cell_type": "code",
   "execution_count": 32,
   "metadata": {
    "collapsed": false
   },
   "outputs": [
    {
     "data": {
      "text/html": [
       "<div>\n",
       "<table border=\"1\" class=\"dataframe\">\n",
       "  <thead>\n",
       "    <tr style=\"text-align: right;\">\n",
       "      <th></th>\n",
       "      <th>lca_case_employer_name</th>\n",
       "      <th>lca_case_workloc1_city</th>\n",
       "      <th>lca_case_workloc2_city</th>\n",
       "      <th>total_workers</th>\n",
       "    </tr>\n",
       "  </thead>\n",
       "  <tbody>\n",
       "    <tr>\n",
       "      <th>0</th>\n",
       "      <td>TEXAS STATE UNIVERSITY-SAN MARCOS</td>\n",
       "      <td>SAN MARCOS</td>\n",
       "      <td>ST. LOUIS</td>\n",
       "      <td>1.0</td>\n",
       "    </tr>\n",
       "    <tr>\n",
       "      <th>1</th>\n",
       "      <td>EYE SPECIALISTS OF INDIANA, P.C.</td>\n",
       "      <td>INDIANAPOLIS</td>\n",
       "      <td>INDIANAPOLIS</td>\n",
       "      <td>1.0</td>\n",
       "    </tr>\n",
       "    <tr>\n",
       "      <th>2</th>\n",
       "      <td>LHB, INC.</td>\n",
       "      <td>FARG</td>\n",
       "      <td>NaN</td>\n",
       "      <td>1.0</td>\n",
       "    </tr>\n",
       "    <tr>\n",
       "      <th>3</th>\n",
       "      <td>WAM USA, INC.</td>\n",
       "      <td>LAWRENCEVILLE</td>\n",
       "      <td>NaN</td>\n",
       "      <td>1.0</td>\n",
       "    </tr>\n",
       "    <tr>\n",
       "      <th>4</th>\n",
       "      <td>DFUSE TECHNOLOGIES, INC.</td>\n",
       "      <td>SAN JOSE</td>\n",
       "      <td>NaN</td>\n",
       "      <td>1.0</td>\n",
       "    </tr>\n",
       "    <tr>\n",
       "      <th>5</th>\n",
       "      <td>TAKE ENTERPRISE SERVICES INC</td>\n",
       "      <td>CHARLOTTE</td>\n",
       "      <td>NaN</td>\n",
       "      <td>1.0</td>\n",
       "    </tr>\n",
       "    <tr>\n",
       "      <th>6</th>\n",
       "      <td>TAKE SOLUTIONS, INC</td>\n",
       "      <td>DOWNERS GROVE</td>\n",
       "      <td>NaN</td>\n",
       "      <td>1.0</td>\n",
       "    </tr>\n",
       "    <tr>\n",
       "      <th>7</th>\n",
       "      <td>PLATTFORM ADVERTISING, INC.</td>\n",
       "      <td>LENEXA</td>\n",
       "      <td>NaN</td>\n",
       "      <td>1.0</td>\n",
       "    </tr>\n",
       "    <tr>\n",
       "      <th>8</th>\n",
       "      <td>PROPEL CORP.</td>\n",
       "      <td>LOUISVILLE</td>\n",
       "      <td>NaN</td>\n",
       "      <td>1.0</td>\n",
       "    </tr>\n",
       "    <tr>\n",
       "      <th>9</th>\n",
       "      <td>UT HEALTH SCIENCE CENTER AT SAN ANTONIO</td>\n",
       "      <td>SAN ANTONIO</td>\n",
       "      <td>NaN</td>\n",
       "      <td>1.0</td>\n",
       "    </tr>\n",
       "    <tr>\n",
       "      <th>10</th>\n",
       "      <td>CITRON PHARMA, LLC</td>\n",
       "      <td>EAST BRUNSWICK</td>\n",
       "      <td>NaN</td>\n",
       "      <td>1.0</td>\n",
       "    </tr>\n",
       "    <tr>\n",
       "      <th>11</th>\n",
       "      <td>ATHEROS COMMUNICATIONS, INC.</td>\n",
       "      <td>SAN JOSE</td>\n",
       "      <td>NaN</td>\n",
       "      <td>1.0</td>\n",
       "    </tr>\n",
       "    <tr>\n",
       "      <th>12</th>\n",
       "      <td>ETEK IT SERVICES, INC.</td>\n",
       "      <td>CHESTERBROOK</td>\n",
       "      <td>NaN</td>\n",
       "      <td>1.0</td>\n",
       "    </tr>\n",
       "    <tr>\n",
       "      <th>13</th>\n",
       "      <td>ICON TECHNOLOGIES, INC.</td>\n",
       "      <td>ALPHARETTA</td>\n",
       "      <td>ALPHARETTA</td>\n",
       "      <td>5.0</td>\n",
       "    </tr>\n",
       "    <tr>\n",
       "      <th>14</th>\n",
       "      <td>DEWBERRY ENGINEERS INC.</td>\n",
       "      <td>BLOOMFIELD</td>\n",
       "      <td>NaN</td>\n",
       "      <td>1.0</td>\n",
       "    </tr>\n",
       "    <tr>\n",
       "      <th>15</th>\n",
       "      <td>CAREMARK, LLC</td>\n",
       "      <td>SCOTTSDALE</td>\n",
       "      <td>NaN</td>\n",
       "      <td>1.0</td>\n",
       "    </tr>\n",
       "    <tr>\n",
       "      <th>16</th>\n",
       "      <td>CRISPIN PORTER &amp; BOGUSKY, LLC</td>\n",
       "      <td>BOULDER</td>\n",
       "      <td>NaN</td>\n",
       "      <td>1.0</td>\n",
       "    </tr>\n",
       "    <tr>\n",
       "      <th>17</th>\n",
       "      <td>CAREMARK, LLC</td>\n",
       "      <td>RICHARDSON</td>\n",
       "      <td>NaN</td>\n",
       "      <td>1.0</td>\n",
       "    </tr>\n",
       "    <tr>\n",
       "      <th>18</th>\n",
       "      <td>LOGISTIC SOLUTIONS, INC.</td>\n",
       "      <td>JERSEY CITY</td>\n",
       "      <td>NaN</td>\n",
       "      <td>1.0</td>\n",
       "    </tr>\n",
       "    <tr>\n",
       "      <th>19</th>\n",
       "      <td>FRS AMERICA, INC.</td>\n",
       "      <td>WALTHAM</td>\n",
       "      <td>SAN ANTONIO</td>\n",
       "      <td>1.0</td>\n",
       "    </tr>\n",
       "    <tr>\n",
       "      <th>20</th>\n",
       "      <td>UNIVERSITY OF TEXAS HEALTH SCIENCE CENTER AT S...</td>\n",
       "      <td>SAN ANTONIO</td>\n",
       "      <td>NaN</td>\n",
       "      <td>1.0</td>\n",
       "    </tr>\n",
       "    <tr>\n",
       "      <th>21</th>\n",
       "      <td>SYSINTELLI, INC</td>\n",
       "      <td>TAMPA</td>\n",
       "      <td>NaN</td>\n",
       "      <td>1.0</td>\n",
       "    </tr>\n",
       "    <tr>\n",
       "      <th>22</th>\n",
       "      <td>FRS AMERICA, INC.</td>\n",
       "      <td>NEW YORK</td>\n",
       "      <td>NEW YORK</td>\n",
       "      <td>1.0</td>\n",
       "    </tr>\n",
       "    <tr>\n",
       "      <th>23</th>\n",
       "      <td>STATOIL GULF SERVICES LLC</td>\n",
       "      <td>HOUSTON</td>\n",
       "      <td>NaN</td>\n",
       "      <td>1.0</td>\n",
       "    </tr>\n",
       "    <tr>\n",
       "      <th>24</th>\n",
       "      <td>CCH INCORPORATED</td>\n",
       "      <td>RIVERWOODS</td>\n",
       "      <td>NaN</td>\n",
       "      <td>1.0</td>\n",
       "    </tr>\n",
       "    <tr>\n",
       "      <th>25</th>\n",
       "      <td>FRONTIER TECHNOLOGIES, LLC</td>\n",
       "      <td>ELMHURST</td>\n",
       "      <td>NaN</td>\n",
       "      <td>1.0</td>\n",
       "    </tr>\n",
       "    <tr>\n",
       "      <th>26</th>\n",
       "      <td>NEXTAG, INC.</td>\n",
       "      <td>SAN MATEO</td>\n",
       "      <td>NaN</td>\n",
       "      <td>1.0</td>\n",
       "    </tr>\n",
       "    <tr>\n",
       "      <th>27</th>\n",
       "      <td>CCH INCORPORATED</td>\n",
       "      <td>IRVING</td>\n",
       "      <td>NaN</td>\n",
       "      <td>1.0</td>\n",
       "    </tr>\n",
       "    <tr>\n",
       "      <th>28</th>\n",
       "      <td>YAMILETH BEEPERS CORP</td>\n",
       "      <td>DORAL</td>\n",
       "      <td>NaN</td>\n",
       "      <td>1.0</td>\n",
       "    </tr>\n",
       "    <tr>\n",
       "      <th>29</th>\n",
       "      <td>BECKMAN COULTER, INC.</td>\n",
       "      <td>CHASKA</td>\n",
       "      <td>NaN</td>\n",
       "      <td>1.0</td>\n",
       "    </tr>\n",
       "    <tr>\n",
       "      <th>...</th>\n",
       "      <td>...</td>\n",
       "      <td>...</td>\n",
       "      <td>...</td>\n",
       "      <td>...</td>\n",
       "    </tr>\n",
       "    <tr>\n",
       "      <th>519474</th>\n",
       "      <td>SKILLMAN TENNIS ASSOCIATES LLC</td>\n",
       "      <td>LONG ISLAND CITY</td>\n",
       "      <td>NaN</td>\n",
       "      <td>1.0</td>\n",
       "    </tr>\n",
       "    <tr>\n",
       "      <th>519475</th>\n",
       "      <td>FINGERPRINT COMMUNICAIONS LLC</td>\n",
       "      <td>NEW YORK</td>\n",
       "      <td>NaN</td>\n",
       "      <td>1.0</td>\n",
       "    </tr>\n",
       "    <tr>\n",
       "      <th>519476</th>\n",
       "      <td>CHICAGO WOMEN'S BASKETBALL OPERATIONS LLC</td>\n",
       "      <td>SKOKIE</td>\n",
       "      <td>NaN</td>\n",
       "      <td>1.0</td>\n",
       "    </tr>\n",
       "    <tr>\n",
       "      <th>519477</th>\n",
       "      <td>TIYA POWER EQUIPMENT, INC.</td>\n",
       "      <td>BELTSVILLE</td>\n",
       "      <td>NaN</td>\n",
       "      <td>1.0</td>\n",
       "    </tr>\n",
       "    <tr>\n",
       "      <th>519478</th>\n",
       "      <td>PERZO, INC.</td>\n",
       "      <td>PALO ALTO</td>\n",
       "      <td>NaN</td>\n",
       "      <td>1.0</td>\n",
       "    </tr>\n",
       "    <tr>\n",
       "      <th>519479</th>\n",
       "      <td>INTERNATIONAL CODE COUNCIL, INC</td>\n",
       "      <td>BREA</td>\n",
       "      <td>NaN</td>\n",
       "      <td>1.0</td>\n",
       "    </tr>\n",
       "    <tr>\n",
       "      <th>519480</th>\n",
       "      <td>ZILLOW, INC.</td>\n",
       "      <td>SEATTLE</td>\n",
       "      <td>NaN</td>\n",
       "      <td>1.0</td>\n",
       "    </tr>\n",
       "    <tr>\n",
       "      <th>519481</th>\n",
       "      <td>THE ALEXANDER GROUP, INC.</td>\n",
       "      <td>CHICAGO</td>\n",
       "      <td>NaN</td>\n",
       "      <td>1.0</td>\n",
       "    </tr>\n",
       "    <tr>\n",
       "      <th>519482</th>\n",
       "      <td>CATALYST INC</td>\n",
       "      <td>NEW YORK</td>\n",
       "      <td>NaN</td>\n",
       "      <td>1.0</td>\n",
       "    </tr>\n",
       "    <tr>\n",
       "      <th>519483</th>\n",
       "      <td>ADP TECHNOLOGY SERVICES, INC.</td>\n",
       "      <td>ALPHARETTA</td>\n",
       "      <td>NaN</td>\n",
       "      <td>1.0</td>\n",
       "    </tr>\n",
       "    <tr>\n",
       "      <th>519484</th>\n",
       "      <td>WONDERWORK, INC</td>\n",
       "      <td>NEW YORK</td>\n",
       "      <td>NaN</td>\n",
       "      <td>1.0</td>\n",
       "    </tr>\n",
       "    <tr>\n",
       "      <th>519485</th>\n",
       "      <td>BITLY, INC.</td>\n",
       "      <td>NEW YORK</td>\n",
       "      <td>NaN</td>\n",
       "      <td>1.0</td>\n",
       "    </tr>\n",
       "    <tr>\n",
       "      <th>519486</th>\n",
       "      <td>MACHER (USA) INC.</td>\n",
       "      <td>VENICE</td>\n",
       "      <td>NaN</td>\n",
       "      <td>1.0</td>\n",
       "    </tr>\n",
       "    <tr>\n",
       "      <th>519487</th>\n",
       "      <td>JACOBI PROPERTIES LLC</td>\n",
       "      <td>CHICAGO</td>\n",
       "      <td>NaN</td>\n",
       "      <td>1.0</td>\n",
       "    </tr>\n",
       "    <tr>\n",
       "      <th>519488</th>\n",
       "      <td>CUMMING CONSTRUCTION MANAGEMENT, INC.</td>\n",
       "      <td>SAN DIEGO</td>\n",
       "      <td>NaN</td>\n",
       "      <td>1.0</td>\n",
       "    </tr>\n",
       "    <tr>\n",
       "      <th>519489</th>\n",
       "      <td>CWC INTERNATIONAL INC.</td>\n",
       "      <td>SUGAR LAND</td>\n",
       "      <td>NaN</td>\n",
       "      <td>1.0</td>\n",
       "    </tr>\n",
       "    <tr>\n",
       "      <th>519490</th>\n",
       "      <td>LCC INTERNATIONAL, INC.</td>\n",
       "      <td>AUSTIN</td>\n",
       "      <td>NaN</td>\n",
       "      <td>1.0</td>\n",
       "    </tr>\n",
       "    <tr>\n",
       "      <th>519491</th>\n",
       "      <td>CALIFORNIA STATE UNIVERSITY FULLERTON</td>\n",
       "      <td>FULLERTON</td>\n",
       "      <td>NaN</td>\n",
       "      <td>1.0</td>\n",
       "    </tr>\n",
       "    <tr>\n",
       "      <th>519492</th>\n",
       "      <td>LAMBSCROFT MINISTRIES</td>\n",
       "      <td>NASHVILLE</td>\n",
       "      <td>NaN</td>\n",
       "      <td>1.0</td>\n",
       "    </tr>\n",
       "    <tr>\n",
       "      <th>519493</th>\n",
       "      <td>XAXIS, INC.</td>\n",
       "      <td>LOS ANGELES</td>\n",
       "      <td>NaN</td>\n",
       "      <td>1.0</td>\n",
       "    </tr>\n",
       "    <tr>\n",
       "      <th>519494</th>\n",
       "      <td>ALFRESCO SOFTWARE AMERICAS, INC.</td>\n",
       "      <td>SAN MATEO</td>\n",
       "      <td>ATLANTA</td>\n",
       "      <td>1.0</td>\n",
       "    </tr>\n",
       "    <tr>\n",
       "      <th>519495</th>\n",
       "      <td>CHROMASUN INC</td>\n",
       "      <td>SAN JOSE</td>\n",
       "      <td>NaN</td>\n",
       "      <td>1.0</td>\n",
       "    </tr>\n",
       "    <tr>\n",
       "      <th>519496</th>\n",
       "      <td>SPARK FUN ELECTRONICS INC</td>\n",
       "      <td>NIWOT</td>\n",
       "      <td>NaN</td>\n",
       "      <td>1.0</td>\n",
       "    </tr>\n",
       "    <tr>\n",
       "      <th>519497</th>\n",
       "      <td>FRIENDS OF TRACY AVIARY</td>\n",
       "      <td>SALT LAKE CITY</td>\n",
       "      <td>NaN</td>\n",
       "      <td>1.0</td>\n",
       "    </tr>\n",
       "    <tr>\n",
       "      <th>519498</th>\n",
       "      <td>ASP INC.</td>\n",
       "      <td>SARASOTA</td>\n",
       "      <td>NaN</td>\n",
       "      <td>1.0</td>\n",
       "    </tr>\n",
       "    <tr>\n",
       "      <th>519499</th>\n",
       "      <td>BROWN AND CALDWELL</td>\n",
       "      <td>LOS ANGELES</td>\n",
       "      <td>NaN</td>\n",
       "      <td>1.0</td>\n",
       "    </tr>\n",
       "    <tr>\n",
       "      <th>519500</th>\n",
       "      <td>ALFRESCO SOFTWARE AMERICAS, INC.</td>\n",
       "      <td>ATLANTA</td>\n",
       "      <td>NaN</td>\n",
       "      <td>1.0</td>\n",
       "    </tr>\n",
       "    <tr>\n",
       "      <th>519501</th>\n",
       "      <td>PACIFIC RESOURCES FOR EDUCATION AND LEARNING</td>\n",
       "      <td>HONOLULU</td>\n",
       "      <td>NaN</td>\n",
       "      <td>1.0</td>\n",
       "    </tr>\n",
       "    <tr>\n",
       "      <th>519502</th>\n",
       "      <td>GROUNDPROBE NORTH AMERICA, LLC</td>\n",
       "      <td>TUCSON</td>\n",
       "      <td>NaN</td>\n",
       "      <td>1.0</td>\n",
       "    </tr>\n",
       "    <tr>\n",
       "      <th>519503</th>\n",
       "      <td>VERI, INC.</td>\n",
       "      <td>NEW YORK</td>\n",
       "      <td>NaN</td>\n",
       "      <td>1.0</td>\n",
       "    </tr>\n",
       "  </tbody>\n",
       "</table>\n",
       "<p>519504 rows × 4 columns</p>\n",
       "</div>"
      ],
      "text/plain": [
       "                                   lca_case_employer_name  \\\n",
       "0                       TEXAS STATE UNIVERSITY-SAN MARCOS   \n",
       "1                        EYE SPECIALISTS OF INDIANA, P.C.   \n",
       "2                                               LHB, INC.   \n",
       "3                                           WAM USA, INC.   \n",
       "4                                DFUSE TECHNOLOGIES, INC.   \n",
       "5                            TAKE ENTERPRISE SERVICES INC   \n",
       "6                                     TAKE SOLUTIONS, INC   \n",
       "7                             PLATTFORM ADVERTISING, INC.   \n",
       "8                                            PROPEL CORP.   \n",
       "9                 UT HEALTH SCIENCE CENTER AT SAN ANTONIO   \n",
       "10                                     CITRON PHARMA, LLC   \n",
       "11                           ATHEROS COMMUNICATIONS, INC.   \n",
       "12                                 ETEK IT SERVICES, INC.   \n",
       "13                                ICON TECHNOLOGIES, INC.   \n",
       "14                                DEWBERRY ENGINEERS INC.   \n",
       "15                                          CAREMARK, LLC   \n",
       "16                          CRISPIN PORTER & BOGUSKY, LLC   \n",
       "17                                          CAREMARK, LLC   \n",
       "18                               LOGISTIC SOLUTIONS, INC.   \n",
       "19                                      FRS AMERICA, INC.   \n",
       "20      UNIVERSITY OF TEXAS HEALTH SCIENCE CENTER AT S...   \n",
       "21                                        SYSINTELLI, INC   \n",
       "22                                      FRS AMERICA, INC.   \n",
       "23                              STATOIL GULF SERVICES LLC   \n",
       "24                                       CCH INCORPORATED   \n",
       "25                             FRONTIER TECHNOLOGIES, LLC   \n",
       "26                                           NEXTAG, INC.   \n",
       "27                                       CCH INCORPORATED   \n",
       "28                                  YAMILETH BEEPERS CORP   \n",
       "29                                  BECKMAN COULTER, INC.   \n",
       "...                                                   ...   \n",
       "519474                     SKILLMAN TENNIS ASSOCIATES LLC   \n",
       "519475                      FINGERPRINT COMMUNICAIONS LLC   \n",
       "519476          CHICAGO WOMEN'S BASKETBALL OPERATIONS LLC   \n",
       "519477                         TIYA POWER EQUIPMENT, INC.   \n",
       "519478                                        PERZO, INC.   \n",
       "519479                    INTERNATIONAL CODE COUNCIL, INC   \n",
       "519480                                       ZILLOW, INC.   \n",
       "519481                          THE ALEXANDER GROUP, INC.   \n",
       "519482                                       CATALYST INC   \n",
       "519483                      ADP TECHNOLOGY SERVICES, INC.   \n",
       "519484                                    WONDERWORK, INC   \n",
       "519485                                        BITLY, INC.   \n",
       "519486                                  MACHER (USA) INC.   \n",
       "519487                              JACOBI PROPERTIES LLC   \n",
       "519488              CUMMING CONSTRUCTION MANAGEMENT, INC.   \n",
       "519489                             CWC INTERNATIONAL INC.   \n",
       "519490                            LCC INTERNATIONAL, INC.   \n",
       "519491              CALIFORNIA STATE UNIVERSITY FULLERTON   \n",
       "519492                              LAMBSCROFT MINISTRIES   \n",
       "519493                                        XAXIS, INC.   \n",
       "519494                   ALFRESCO SOFTWARE AMERICAS, INC.   \n",
       "519495                                      CHROMASUN INC   \n",
       "519496                          SPARK FUN ELECTRONICS INC   \n",
       "519497                            FRIENDS OF TRACY AVIARY   \n",
       "519498                                           ASP INC.   \n",
       "519499                                 BROWN AND CALDWELL   \n",
       "519500                   ALFRESCO SOFTWARE AMERICAS, INC.   \n",
       "519501       PACIFIC RESOURCES FOR EDUCATION AND LEARNING   \n",
       "519502                     GROUNDPROBE NORTH AMERICA, LLC   \n",
       "519503                                         VERI, INC.   \n",
       "\n",
       "       lca_case_workloc1_city lca_case_workloc2_city  total_workers  \n",
       "0                  SAN MARCOS              ST. LOUIS            1.0  \n",
       "1                INDIANAPOLIS           INDIANAPOLIS            1.0  \n",
       "2                        FARG                    NaN            1.0  \n",
       "3               LAWRENCEVILLE                    NaN            1.0  \n",
       "4                    SAN JOSE                    NaN            1.0  \n",
       "5                   CHARLOTTE                    NaN            1.0  \n",
       "6               DOWNERS GROVE                    NaN            1.0  \n",
       "7                      LENEXA                    NaN            1.0  \n",
       "8                  LOUISVILLE                    NaN            1.0  \n",
       "9                 SAN ANTONIO                    NaN            1.0  \n",
       "10             EAST BRUNSWICK                    NaN            1.0  \n",
       "11                   SAN JOSE                    NaN            1.0  \n",
       "12               CHESTERBROOK                    NaN            1.0  \n",
       "13                 ALPHARETTA             ALPHARETTA            5.0  \n",
       "14                 BLOOMFIELD                    NaN            1.0  \n",
       "15                 SCOTTSDALE                    NaN            1.0  \n",
       "16                    BOULDER                    NaN            1.0  \n",
       "17                 RICHARDSON                    NaN            1.0  \n",
       "18                JERSEY CITY                    NaN            1.0  \n",
       "19                    WALTHAM            SAN ANTONIO            1.0  \n",
       "20                SAN ANTONIO                    NaN            1.0  \n",
       "21                      TAMPA                    NaN            1.0  \n",
       "22                   NEW YORK               NEW YORK            1.0  \n",
       "23                    HOUSTON                    NaN            1.0  \n",
       "24                 RIVERWOODS                    NaN            1.0  \n",
       "25                   ELMHURST                    NaN            1.0  \n",
       "26                  SAN MATEO                    NaN            1.0  \n",
       "27                     IRVING                    NaN            1.0  \n",
       "28                      DORAL                    NaN            1.0  \n",
       "29                     CHASKA                    NaN            1.0  \n",
       "...                       ...                    ...            ...  \n",
       "519474       LONG ISLAND CITY                    NaN            1.0  \n",
       "519475               NEW YORK                    NaN            1.0  \n",
       "519476                 SKOKIE                    NaN            1.0  \n",
       "519477             BELTSVILLE                    NaN            1.0  \n",
       "519478              PALO ALTO                    NaN            1.0  \n",
       "519479                   BREA                    NaN            1.0  \n",
       "519480                SEATTLE                    NaN            1.0  \n",
       "519481                CHICAGO                    NaN            1.0  \n",
       "519482               NEW YORK                    NaN            1.0  \n",
       "519483             ALPHARETTA                    NaN            1.0  \n",
       "519484               NEW YORK                    NaN            1.0  \n",
       "519485               NEW YORK                    NaN            1.0  \n",
       "519486                 VENICE                    NaN            1.0  \n",
       "519487                CHICAGO                    NaN            1.0  \n",
       "519488              SAN DIEGO                    NaN            1.0  \n",
       "519489             SUGAR LAND                    NaN            1.0  \n",
       "519490                 AUSTIN                    NaN            1.0  \n",
       "519491              FULLERTON                    NaN            1.0  \n",
       "519492              NASHVILLE                    NaN            1.0  \n",
       "519493            LOS ANGELES                    NaN            1.0  \n",
       "519494              SAN MATEO                ATLANTA            1.0  \n",
       "519495               SAN JOSE                    NaN            1.0  \n",
       "519496                  NIWOT                    NaN            1.0  \n",
       "519497         SALT LAKE CITY                    NaN            1.0  \n",
       "519498               SARASOTA                    NaN            1.0  \n",
       "519499            LOS ANGELES                    NaN            1.0  \n",
       "519500                ATLANTA                    NaN            1.0  \n",
       "519501               HONOLULU                    NaN            1.0  \n",
       "519502                 TUCSON                    NaN            1.0  \n",
       "519503               NEW YORK                    NaN            1.0  \n",
       "\n",
       "[519504 rows x 4 columns]"
      ]
     },
     "execution_count": 32,
     "metadata": {},
     "output_type": "execute_result"
    }
   ],
   "source": [
    "c = df[['lca_case_employer_name','lca_case_workloc1_city','lca_case_workloc2_city','total_workers']]"
   ]
  },
  {
   "cell_type": "code",
   "execution_count": 50,
   "metadata": {
    "collapsed": false
   },
   "outputs": [],
   "source": [
    "nyc = c[c.lca_case_workloc1_city.str.contains(\"NEW YORK\", na=False) | c.lca_case_workloc2_city.str.contains(\"NEW YORK\", na=False) | c.lca_case_workloc1_city.str.contains(\"NYC\", na=False) | c.lca_case_workloc2_city.str.contains(\"NYC\", na=False)]"
   ]
  },
  {
   "cell_type": "code",
   "execution_count": 51,
   "metadata": {
    "collapsed": false
   },
   "outputs": [
    {
     "data": {
      "text/html": [
       "<div>\n",
       "<table border=\"1\" class=\"dataframe\">\n",
       "  <thead>\n",
       "    <tr style=\"text-align: right;\">\n",
       "      <th></th>\n",
       "      <th>total_workers</th>\n",
       "    </tr>\n",
       "    <tr>\n",
       "      <th>lca_case_employer_name</th>\n",
       "      <th></th>\n",
       "    </tr>\n",
       "  </thead>\n",
       "  <tbody>\n",
       "    <tr>\n",
       "      <th>PRICEWATERHOUSECOOPERS, LLP</th>\n",
       "      <td>5835.0</td>\n",
       "    </tr>\n",
       "    <tr>\n",
       "      <th>DELOITTE CONSULTING LLP</th>\n",
       "      <td>3474.0</td>\n",
       "    </tr>\n",
       "    <tr>\n",
       "      <th>ERNST &amp; YOUNG U.S. LLP</th>\n",
       "      <td>2663.0</td>\n",
       "    </tr>\n",
       "    <tr>\n",
       "      <th>DELOITTE &amp; TOUCHE LLP</th>\n",
       "      <td>2053.0</td>\n",
       "    </tr>\n",
       "    <tr>\n",
       "      <th>MPHASIS CORPORATION</th>\n",
       "      <td>1792.0</td>\n",
       "    </tr>\n",
       "    <tr>\n",
       "      <th>CAPGEMINI FINANCIAL SERVICES USA INC</th>\n",
       "      <td>1172.0</td>\n",
       "    </tr>\n",
       "    <tr>\n",
       "      <th>WIPRO LIMITED</th>\n",
       "      <td>1172.0</td>\n",
       "    </tr>\n",
       "    <tr>\n",
       "      <th>TATA CONSULTANCY SERVICES LIMITED</th>\n",
       "      <td>946.0</td>\n",
       "    </tr>\n",
       "    <tr>\n",
       "      <th>IGATE TECHNOLOGIES INC.</th>\n",
       "      <td>817.0</td>\n",
       "    </tr>\n",
       "    <tr>\n",
       "      <th>JPMORGAN CHASE &amp; CO.</th>\n",
       "      <td>630.0</td>\n",
       "    </tr>\n",
       "    <tr>\n",
       "      <th>BLOOMBERG, LP</th>\n",
       "      <td>621.0</td>\n",
       "    </tr>\n",
       "    <tr>\n",
       "      <th>PRICEWATERHOUSECOOPERS ADVISORY LLC</th>\n",
       "      <td>600.0</td>\n",
       "    </tr>\n",
       "    <tr>\n",
       "      <th>GOLDMAN, SACHS &amp; CO.</th>\n",
       "      <td>599.0</td>\n",
       "    </tr>\n",
       "    <tr>\n",
       "      <th>PRICEWATERHOUSECOOPERS LLP</th>\n",
       "      <td>560.0</td>\n",
       "    </tr>\n",
       "    <tr>\n",
       "      <th>AMAZON CORPORATE LLC</th>\n",
       "      <td>541.0</td>\n",
       "    </tr>\n",
       "    <tr>\n",
       "      <th>DELOITTE TAX LLP</th>\n",
       "      <td>534.0</td>\n",
       "    </tr>\n",
       "    <tr>\n",
       "      <th>ITNEWTON INC</th>\n",
       "      <td>483.0</td>\n",
       "    </tr>\n",
       "    <tr>\n",
       "      <th>DELOITTE TRANSACTIONS AND BUSINESS ANALYTICS LLP</th>\n",
       "      <td>450.0</td>\n",
       "    </tr>\n",
       "    <tr>\n",
       "      <th>MORGAN STANLEY &amp; CO. LLC</th>\n",
       "      <td>448.0</td>\n",
       "    </tr>\n",
       "    <tr>\n",
       "      <th>INFOSYS LIMITED</th>\n",
       "      <td>437.0</td>\n",
       "    </tr>\n",
       "    <tr>\n",
       "      <th>EXLSERVICE.COM, LLC</th>\n",
       "      <td>427.0</td>\n",
       "    </tr>\n",
       "    <tr>\n",
       "      <th>RBC CAPITAL MARKETS, LLC</th>\n",
       "      <td>412.0</td>\n",
       "    </tr>\n",
       "    <tr>\n",
       "      <th>MERRILL LYNCH</th>\n",
       "      <td>400.0</td>\n",
       "    </tr>\n",
       "    <tr>\n",
       "      <th>MINDTREE LIMITED</th>\n",
       "      <td>390.0</td>\n",
       "    </tr>\n",
       "    <tr>\n",
       "      <th>DELOITTE &amp;AMP; TOUCHE LLP</th>\n",
       "      <td>340.0</td>\n",
       "    </tr>\n",
       "    <tr>\n",
       "      <th>BANK OF AMERICA N.A.</th>\n",
       "      <td>328.0</td>\n",
       "    </tr>\n",
       "    <tr>\n",
       "      <th>CREDIT SUISSE SECURITIES (USA) LLC</th>\n",
       "      <td>311.0</td>\n",
       "    </tr>\n",
       "    <tr>\n",
       "      <th>GOOGLE INC.</th>\n",
       "      <td>289.0</td>\n",
       "    </tr>\n",
       "    <tr>\n",
       "      <th>COLUMBIA UNIVERSITY</th>\n",
       "      <td>288.0</td>\n",
       "    </tr>\n",
       "    <tr>\n",
       "      <th>LARSEN &amp; TOUBRO INFOTECH LIMITED</th>\n",
       "      <td>280.0</td>\n",
       "    </tr>\n",
       "    <tr>\n",
       "      <th>...</th>\n",
       "      <td>...</td>\n",
       "    </tr>\n",
       "    <tr>\n",
       "      <th>INFOSHIRE, INC</th>\n",
       "      <td>1.0</td>\n",
       "    </tr>\n",
       "    <tr>\n",
       "      <th>INFORMATION RESOURCES, INC.</th>\n",
       "      <td>1.0</td>\n",
       "    </tr>\n",
       "    <tr>\n",
       "      <th>INFORMATICA CORPORATION</th>\n",
       "      <td>1.0</td>\n",
       "    </tr>\n",
       "    <tr>\n",
       "      <th>INFORMATIC TECHNOLOGIES INC</th>\n",
       "      <td>1.0</td>\n",
       "    </tr>\n",
       "    <tr>\n",
       "      <th>INSIGHT RESEARCH GROUP USA</th>\n",
       "      <td>1.0</td>\n",
       "    </tr>\n",
       "    <tr>\n",
       "      <th>INSIGHT STRATEGY ADVISORS LLC</th>\n",
       "      <td>1.0</td>\n",
       "    </tr>\n",
       "    <tr>\n",
       "      <th>INTELLECT TECHNOLOGIES</th>\n",
       "      <td>1.0</td>\n",
       "    </tr>\n",
       "    <tr>\n",
       "      <th>INSIGHT STRATEGY GROUP</th>\n",
       "      <td>1.0</td>\n",
       "    </tr>\n",
       "    <tr>\n",
       "      <th>INTELLECT BUSINESS SOLUTIONS, LLC</th>\n",
       "      <td>1.0</td>\n",
       "    </tr>\n",
       "    <tr>\n",
       "      <th>INTEL AMERICA'S</th>\n",
       "      <td>1.0</td>\n",
       "    </tr>\n",
       "    <tr>\n",
       "      <th>INTEGRO USA INC.</th>\n",
       "      <td>1.0</td>\n",
       "    </tr>\n",
       "    <tr>\n",
       "      <th>INTEGRITY TOYS, INC.</th>\n",
       "      <td>1.0</td>\n",
       "    </tr>\n",
       "    <tr>\n",
       "      <th>INTEGRATED RESOURCES, INC.</th>\n",
       "      <td>1.0</td>\n",
       "    </tr>\n",
       "    <tr>\n",
       "      <th>INTEGRATED PROJECT DELIVERY PARTNERS, INC.</th>\n",
       "      <td>1.0</td>\n",
       "    </tr>\n",
       "    <tr>\n",
       "      <th>INTEGRATED MEDIA SOLUTIONS PARTNERS, LLC</th>\n",
       "      <td>1.0</td>\n",
       "    </tr>\n",
       "    <tr>\n",
       "      <th>INTEGRATED MANAGEMENT SYSTEMS, INC.</th>\n",
       "      <td>1.0</td>\n",
       "    </tr>\n",
       "    <tr>\n",
       "      <th>INTEGRATED MANAGEMENT SOLUTIONS USA LLC</th>\n",
       "      <td>1.0</td>\n",
       "    </tr>\n",
       "    <tr>\n",
       "      <th>INTEGRATED INFO SYSTEMS, INC</th>\n",
       "      <td>1.0</td>\n",
       "    </tr>\n",
       "    <tr>\n",
       "      <th>INTEGRAL AD SCIENCE</th>\n",
       "      <td>1.0</td>\n",
       "    </tr>\n",
       "    <tr>\n",
       "      <th>INSTITUTIONAL LIFE SERVICES LLC</th>\n",
       "      <td>1.0</td>\n",
       "    </tr>\n",
       "    <tr>\n",
       "      <th>INSTITUTIONAL CAPITAL NETWORK INC.</th>\n",
       "      <td>1.0</td>\n",
       "    </tr>\n",
       "    <tr>\n",
       "      <th>INSTITUTE OF AUDIO RESEARCH, LLC.</th>\n",
       "      <td>1.0</td>\n",
       "    </tr>\n",
       "    <tr>\n",
       "      <th>INSTITUTE FOR TRANSPORTATION AND DEVELOPMENT POLIC</th>\n",
       "      <td>1.0</td>\n",
       "    </tr>\n",
       "    <tr>\n",
       "      <th>INSTITUTE FOR INTERNATIONAL RESEARCH, INC.</th>\n",
       "      <td>1.0</td>\n",
       "    </tr>\n",
       "    <tr>\n",
       "      <th>INSTITUTE FOR HUMAN IDENTITY INC</th>\n",
       "      <td>1.0</td>\n",
       "    </tr>\n",
       "    <tr>\n",
       "      <th>INSTITUTE FOR HUMAN IDENTITY</th>\n",
       "      <td>1.0</td>\n",
       "    </tr>\n",
       "    <tr>\n",
       "      <th>INSTITUTE FOR COMMUNITY LIVING, INC.</th>\n",
       "      <td>1.0</td>\n",
       "    </tr>\n",
       "    <tr>\n",
       "      <th>INSTANT VINTAGE INC.</th>\n",
       "      <td>1.0</td>\n",
       "    </tr>\n",
       "    <tr>\n",
       "      <th>INSIGHTLAB PACIFIC, INC.</th>\n",
       "      <td>1.0</td>\n",
       "    </tr>\n",
       "    <tr>\n",
       "      <th>LAW OFFICES OF GERALD KARIKARI PC</th>\n",
       "      <td>1.0</td>\n",
       "    </tr>\n",
       "  </tbody>\n",
       "</table>\n",
       "<p>8977 rows × 1 columns</p>\n",
       "</div>"
      ],
      "text/plain": [
       "                                                    total_workers\n",
       "lca_case_employer_name                                           \n",
       "PRICEWATERHOUSECOOPERS, LLP                                5835.0\n",
       "DELOITTE CONSULTING LLP                                    3474.0\n",
       "ERNST & YOUNG U.S. LLP                                     2663.0\n",
       "DELOITTE & TOUCHE LLP                                      2053.0\n",
       "MPHASIS CORPORATION                                        1792.0\n",
       "CAPGEMINI FINANCIAL SERVICES USA INC                       1172.0\n",
       "WIPRO LIMITED                                              1172.0\n",
       "TATA CONSULTANCY SERVICES LIMITED                           946.0\n",
       "IGATE TECHNOLOGIES INC.                                     817.0\n",
       "JPMORGAN CHASE & CO.                                        630.0\n",
       "BLOOMBERG, LP                                               621.0\n",
       "PRICEWATERHOUSECOOPERS ADVISORY LLC                         600.0\n",
       "GOLDMAN, SACHS & CO.                                        599.0\n",
       "PRICEWATERHOUSECOOPERS LLP                                  560.0\n",
       "AMAZON CORPORATE LLC                                        541.0\n",
       "DELOITTE TAX LLP                                            534.0\n",
       "ITNEWTON INC                                                483.0\n",
       "DELOITTE TRANSACTIONS AND BUSINESS ANALYTICS LLP            450.0\n",
       "MORGAN STANLEY & CO. LLC                                    448.0\n",
       "INFOSYS LIMITED                                             437.0\n",
       "EXLSERVICE.COM, LLC                                         427.0\n",
       "RBC CAPITAL MARKETS, LLC                                    412.0\n",
       "MERRILL LYNCH                                               400.0\n",
       "MINDTREE LIMITED                                            390.0\n",
       "DELOITTE &AMP; TOUCHE LLP                                   340.0\n",
       "BANK OF AMERICA N.A.                                        328.0\n",
       "CREDIT SUISSE SECURITIES (USA) LLC                          311.0\n",
       "GOOGLE INC.                                                 289.0\n",
       "COLUMBIA UNIVERSITY                                         288.0\n",
       "LARSEN & TOUBRO INFOTECH LIMITED                            280.0\n",
       "...                                                           ...\n",
       "INFOSHIRE, INC                                                1.0\n",
       "INFORMATION RESOURCES, INC.                                   1.0\n",
       "INFORMATICA CORPORATION                                       1.0\n",
       "INFORMATIC TECHNOLOGIES INC                                   1.0\n",
       "INSIGHT RESEARCH GROUP USA                                    1.0\n",
       "INSIGHT STRATEGY ADVISORS LLC                                 1.0\n",
       "INTELLECT TECHNOLOGIES                                        1.0\n",
       "INSIGHT STRATEGY GROUP                                        1.0\n",
       "INTELLECT BUSINESS SOLUTIONS, LLC                             1.0\n",
       "INTEL AMERICA'S                                               1.0\n",
       "INTEGRO USA INC.                                              1.0\n",
       "INTEGRITY TOYS, INC.                                          1.0\n",
       "INTEGRATED RESOURCES, INC.                                    1.0\n",
       "INTEGRATED PROJECT DELIVERY PARTNERS, INC.                    1.0\n",
       "INTEGRATED MEDIA SOLUTIONS PARTNERS, LLC                      1.0\n",
       "INTEGRATED MANAGEMENT SYSTEMS, INC.                           1.0\n",
       "INTEGRATED MANAGEMENT SOLUTIONS USA LLC                       1.0\n",
       "INTEGRATED INFO SYSTEMS, INC                                  1.0\n",
       "INTEGRAL AD SCIENCE                                           1.0\n",
       "INSTITUTIONAL LIFE SERVICES LLC                               1.0\n",
       "INSTITUTIONAL CAPITAL NETWORK INC.                            1.0\n",
       "INSTITUTE OF AUDIO RESEARCH, LLC.                             1.0\n",
       "INSTITUTE FOR TRANSPORTATION AND DEVELOPMENT POLIC            1.0\n",
       "INSTITUTE FOR INTERNATIONAL RESEARCH, INC.                    1.0\n",
       "INSTITUTE FOR HUMAN IDENTITY INC                              1.0\n",
       "INSTITUTE FOR HUMAN IDENTITY                                  1.0\n",
       "INSTITUTE FOR COMMUNITY LIVING, INC.                          1.0\n",
       "INSTANT VINTAGE INC.                                          1.0\n",
       "INSIGHTLAB PACIFIC, INC.                                      1.0\n",
       "LAW OFFICES OF GERALD KARIKARI PC                             1.0\n",
       "\n",
       "[8977 rows x 1 columns]"
      ]
     },
     "execution_count": 51,
     "metadata": {},
     "output_type": "execute_result"
    }
   ],
   "source": [
    "nyc = nyc[['lca_case_employer_name','total_workers']]\n",
    "nyc = nyc.groupby(['lca_case_employer_name']).sum().sort_values('total_workers',ascending = False)"
   ]
  },
  {
   "cell_type": "code",
   "execution_count": 54,
   "metadata": {
    "collapsed": false
   },
   "outputs": [],
   "source": [
    "filename = \"top_20_nyc_applicants.csv\"\n",
    "top_20 = nyc.head(20)\n",
    "top_20.to_csv(filename)"
   ]
  },
  {
   "cell_type": "code",
   "execution_count": 55,
   "metadata": {
    "collapsed": true
   },
   "outputs": [],
   "source": [
    "filename = \"full_ranked_nyc_applicants.csv\"\n",
    "nyc.to_csv(filename)"
   ]
  },
  {
   "cell_type": "markdown",
   "metadata": {},
   "source": [
    "### 1.2 - NYC and Mountain View Wages Comparison\n",
    "* For the purposes of this exercise, only looking at proposed wages set at 'Year' Wage Rate Unit"
   ]
  },
  {
   "cell_type": "code",
   "execution_count": 4,
   "metadata": {
    "collapsed": false
   },
   "outputs": [],
   "source": [
    "w = df[['lca_case_employer_name',\n",
    "       'lca_case_job_title',\n",
    "       'lca_case_wage_rate_from', \n",
    "       'lca_case_wage_rate_unit', \n",
    "       'full_time_pos', \n",
    "       'total_workers',\n",
    "       'lca_case_workloc1_city',\n",
    "       'pw_1',\n",
    "       'pw_unit_1', \n",
    "       'pw_source_1', \n",
    "       'other_wage_source_1',\n",
    "       'yr_source_pub_1', \n",
    "       'lca_case_workloc2_city',\n",
    "       'pw_2', \n",
    "       'pw_unit_2', \n",
    "       'pw_source_2',\n",
    "       'other_wage_source_2']]"
   ]
  },
  {
   "cell_type": "code",
   "execution_count": 64,
   "metadata": {
    "collapsed": true
   },
   "outputs": [],
   "source": [
    "ny = w[w.lca_case_workloc1_city.str.contains(\"NEW YORK\", na=False) | w.lca_case_workloc2_city.str.contains(\"NEW YORK\", na=False) | w.lca_case_workloc1_city.str.contains(\"NYC\", na=False) | w.lca_case_workloc2_city.str.contains(\"NYC\", na=False)]\n",
    "mv = w[w.lca_case_workloc1_city.str.contains(\"MOUNTAIN VIEW\", na=False) | w.lca_case_workloc2_city.str.contains(\"MOUNTAIN VIEW\", na=False)]"
   ]
  },
  {
   "cell_type": "code",
   "execution_count": 153,
   "metadata": {
    "collapsed": false
   },
   "outputs": [],
   "source": [
    "ny = ny[['lca_case_employer_name',\n",
    "       'lca_case_job_title',\n",
    "       'lca_case_wage_rate_from', \n",
    "       'lca_case_wage_rate_unit', \n",
    "       'full_time_pos', \n",
    "       'total_workers']]\n",
    "\n",
    "mv = mv[['lca_case_employer_name',\n",
    "       'lca_case_job_title',\n",
    "       'lca_case_wage_rate_from', \n",
    "       'lca_case_wage_rate_unit', \n",
    "       'full_time_pos', \n",
    "       'total_workers']]"
   ]
  },
  {
   "cell_type": "code",
   "execution_count": 71,
   "metadata": {
    "collapsed": false
   },
   "outputs": [],
   "source": [
    "nyy = ny[ny['lca_case_wage_rate_unit'] == 'Year']\n",
    "mvy = mv[mv['lca_case_wage_rate_unit'] == 'Year']"
   ]
  },
  {
   "cell_type": "code",
   "execution_count": 75,
   "metadata": {
    "collapsed": false
   },
   "outputs": [],
   "source": [
    "def total_wages(x):\n",
    "    return x['lca_case_wage_rate_from'] * x['total_workers']"
   ]
  },
  {
   "cell_type": "code",
   "execution_count": 76,
   "metadata": {
    "collapsed": false
   },
   "outputs": [
    {
     "name": "stderr",
     "output_type": "stream",
     "text": [
      "/Users/junia.zhang/anaconda2/lib/python2.7/site-packages/ipykernel/__main__.py:1: SettingWithCopyWarning: \n",
      "A value is trying to be set on a copy of a slice from a DataFrame.\n",
      "Try using .loc[row_indexer,col_indexer] = value instead\n",
      "\n",
      "See the caveats in the documentation: http://pandas.pydata.org/pandas-docs/stable/indexing.html#indexing-view-versus-copy\n",
      "  if __name__ == '__main__':\n",
      "/Users/junia.zhang/anaconda2/lib/python2.7/site-packages/ipykernel/__main__.py:2: SettingWithCopyWarning: \n",
      "A value is trying to be set on a copy of a slice from a DataFrame.\n",
      "Try using .loc[row_indexer,col_indexer] = value instead\n",
      "\n",
      "See the caveats in the documentation: http://pandas.pydata.org/pandas-docs/stable/indexing.html#indexing-view-versus-copy\n",
      "  from ipykernel import kernelapp as app\n"
     ]
    }
   ],
   "source": [
    "nyy['total_wages'] = nyy.apply(total_wages, axis = 1)\n",
    "mvy['total_wages'] = mvy.apply(total_wages, axis = 1)"
   ]
  },
  {
   "cell_type": "code",
   "execution_count": 83,
   "metadata": {
    "collapsed": false
   },
   "outputs": [],
   "source": [
    "def wage_mean(y):\n",
    "    return y.total_wages.sum()/y.total_workers.sum()"
   ]
  },
  {
   "cell_type": "code",
   "execution_count": 92,
   "metadata": {
    "collapsed": false
   },
   "outputs": [
    {
     "name": "stdout",
     "output_type": "stream",
     "text": [
      "The mean proposed annual wage rate in  New York is $89199.8\n",
      "The mean proposed annual wage rate in  Mountain View is $104033.8\n"
     ]
    }
   ],
   "source": [
    "mean_ny = wage_mean(nyy)\n",
    "mean_mv = wage_mean(mvy)\n",
    "\n",
    "print \"The mean proposed annual wage rate in  New York is \" + '$' + str(round(mean_ny,1))\n",
    "print \"The mean proposed annual wage rate in  Mountain View is \" + '$' + str(round(mean_mv,1))"
   ]
  },
  {
   "cell_type": "code",
   "execution_count": 105,
   "metadata": {
    "collapsed": false
   },
   "outputs": [
    {
     "name": "stderr",
     "output_type": "stream",
     "text": [
      "/Users/junia.zhang/anaconda2/lib/python2.7/site-packages/ipykernel/__main__.py:1: SettingWithCopyWarning: \n",
      "A value is trying to be set on a copy of a slice from a DataFrame.\n",
      "Try using .loc[row_indexer,col_indexer] = value instead\n",
      "\n",
      "See the caveats in the documentation: http://pandas.pydata.org/pandas-docs/stable/indexing.html#indexing-view-versus-copy\n",
      "  if __name__ == '__main__':\n",
      "/Users/junia.zhang/anaconda2/lib/python2.7/site-packages/ipykernel/__main__.py:2: SettingWithCopyWarning: \n",
      "A value is trying to be set on a copy of a slice from a DataFrame.\n",
      "Try using .loc[row_indexer,col_indexer] = value instead\n",
      "\n",
      "See the caveats in the documentation: http://pandas.pydata.org/pandas-docs/stable/indexing.html#indexing-view-versus-copy\n",
      "  from ipykernel import kernelapp as app\n"
     ]
    }
   ],
   "source": [
    "nyy['varw'] = ((nyy['lca_case_wage_rate_from'] - mean_ny) ** 2) * nyy['total_workers']\n",
    "mvy['varw'] = ((mvy['lca_case_wage_rate_from'] - mean_mv) ** 2) * mvy['total_workers']"
   ]
  },
  {
   "cell_type": "code",
   "execution_count": 124,
   "metadata": {
    "collapsed": true
   },
   "outputs": [],
   "source": [
    "def wage_var(z):\n",
    "    return z.varw.sum()/z.total_workers.sum()\n",
    "\n",
    "def wage_sd(z):\n",
    "    return math.sqrt(wage_var(z))"
   ]
  },
  {
   "cell_type": "code",
   "execution_count": 125,
   "metadata": {
    "collapsed": false
   },
   "outputs": [
    {
     "name": "stdout",
     "output_type": "stream",
     "text": [
      "The standard deviation of the proposed annual wage rates in  New York is $68983.4\n",
      "The standard deviation of the proposed annual wage rates in  Mountain View is $27223.8\n"
     ]
    }
   ],
   "source": [
    "variance_ny = wage_var(nyy)\n",
    "variance_mv = wage_var(mvy)\n",
    "\n",
    "stddev_ny = wage_sd(nyy)\n",
    "stddev_mv = wage_sd(mvy)\n",
    "\n",
    "print \"The standard deviation of the proposed annual wage rates in  New York is \" + '$' + str(round(stddev_ny,1))\n",
    "print \"The standard deviation of the proposed annual wage rates in  Mountain View is \" + '$' + str(round(stddev_mv,1))"
   ]
  },
  {
   "cell_type": "markdown",
   "metadata": {},
   "source": [
    "### Z-test to compare whether the two populations are statistically different\n",
    "#### Hypothesis: Wages proposed for Mountain View workers are significantly higher than wages proposed for New York workers"
   ]
  },
  {
   "cell_type": "code",
   "execution_count": 139,
   "metadata": {
    "collapsed": false
   },
   "outputs": [
    {
     "name": "stdout",
     "output_type": "stream",
     "text": [
      "The z-statistic for the two populations means is 38.98\n"
     ]
    }
   ],
   "source": [
    "z = (mean_mv - mean_ny)/math.sqrt(variance_mv/mvy.total_workers.sum() + variance_ny/nyy.total_workers.sum())\n",
    "print \"The z-statistic for the two populations means is \" + str(round(z,2))"
   ]
  },
  {
   "cell_type": "code",
   "execution_count": 140,
   "metadata": {
    "collapsed": true
   },
   "outputs": [],
   "source": [
    "def p_val(zs):\n",
    "    from scipy.stats import norm\n",
    "    return 2*(1 - norm.cdf(abs(z)))"
   ]
  },
  {
   "cell_type": "code",
   "execution_count": 146,
   "metadata": {
    "collapsed": false
   },
   "outputs": [
    {
     "name": "stdout",
     "output_type": "stream",
     "text": [
      "The p-value for the two populations means is 0.0\n"
     ]
    }
   ],
   "source": [
    "pv = p_val(z)\n",
    "print \"The p-value for the two populations means is \" + str(round(pv,2))"
   ]
  },
  {
   "cell_type": "markdown",
   "metadata": {},
   "source": [
    "### 1.3 - Relationship between H1B visas requested by an employer and the average wages proposed in NYC"
   ]
  },
  {
   "cell_type": "code",
   "execution_count": 5,
   "metadata": {
    "collapsed": true
   },
   "outputs": [],
   "source": [
    "rny = w[w.lca_case_workloc1_city.str.contains(\"NEW YORK\", na=False) | w.lca_case_workloc2_city.str.contains(\"NEW YORK\", na=False) | w.lca_case_workloc1_city.str.contains(\"NYC\", na=False) | w.lca_case_workloc2_city.str.contains(\"NYC\", na=False)]"
   ]
  },
  {
   "cell_type": "code",
   "execution_count": 6,
   "metadata": {
    "collapsed": false
   },
   "outputs": [],
   "source": [
    "rnyy = rny[rny['lca_case_wage_rate_unit'] == 'Year']\n",
    "\n",
    "rnyy = rnyy[['lca_case_employer_name',\n",
    "       'lca_case_wage_rate_from', \n",
    "       'total_workers']]"
   ]
  },
  {
   "cell_type": "code",
   "execution_count": 7,
   "metadata": {
    "collapsed": false
   },
   "outputs": [],
   "source": [
    "rnyy['tot'] = rnyy['lca_case_wage_rate_from'] * rnyy['total_workers']"
   ]
  },
  {
   "cell_type": "code",
   "execution_count": 8,
   "metadata": {
    "collapsed": false
   },
   "outputs": [],
   "source": [
    "r = rnyy.groupby('lca_case_employer_name').sum()\n",
    "r['avg_wage'] = r['tot']/r['total_workers']"
   ]
  },
  {
   "cell_type": "code",
   "execution_count": 9,
   "metadata": {
    "collapsed": false
   },
   "outputs": [],
   "source": [
    "r = r[['total_workers','avg_wage']]"
   ]
  },
  {
   "cell_type": "code",
   "execution_count": 29,
   "metadata": {
    "collapsed": false
   },
   "outputs": [],
   "source": [
    "sns.set(style=\"ticks\", context=\"talk\")\n",
    "\n",
    "g = sns.lmplot(x='total_workers', y='avg_wage', data=r, size=7)\n",
    "g.set_axis_labels(\"Total Number of Workers Requested\", \"Employer's Average Proposed Wage Rate\")\n",
    "\n",
    "g.savefig('workers_vs_wage.png')"
   ]
  },
  {
   "cell_type": "markdown",
   "metadata": {},
   "source": [
    "#### Remove outliers"
   ]
  },
  {
   "cell_type": "code",
   "execution_count": 45,
   "metadata": {
    "collapsed": true
   },
   "outputs": [],
   "source": [
    "rf = r[(r.avg_wage < 200000) & (r.total_workers < 10)]"
   ]
  },
  {
   "cell_type": "code",
   "execution_count": 46,
   "metadata": {
    "collapsed": true
   },
   "outputs": [],
   "source": [
    "gf = sns.lmplot(x='total_workers', y='avg_wage', data=rf, size=7)\n",
    "gf.set_axis_labels(\"Total Number of Workers Requested\", \"Employer's Average Proposed Wage Rate\")\n",
    "\n",
    "gf.savefig('workers_vs_wage_filtered.png')"
   ]
  },
  {
   "cell_type": "code",
   "execution_count": 40,
   "metadata": {
    "collapsed": false
   },
   "outputs": [
    {
     "name": "stdout",
     "output_type": "stream",
     "text": [
      "               total_workers  avg_wage\n",
      "total_workers       1.000000 -0.000894\n",
      "avg_wage           -0.000894  1.000000\n",
      "               total_workers  avg_wage\n",
      "total_workers        1.00000   0.01827\n",
      "avg_wage             0.01827   1.00000\n"
     ]
    }
   ],
   "source": [
    "print r.corr(method='pearson')\n",
    "print rf.corr(method='pearson')"
   ]
  }
 ],
 "metadata": {
  "anaconda-cloud": {},
  "kernelspec": {
   "display_name": "Python [Root]",
   "language": "python",
   "name": "Python [Root]"
  },
  "language_info": {
   "codemirror_mode": {
    "name": "ipython",
    "version": 2
   },
   "file_extension": ".py",
   "mimetype": "text/x-python",
   "name": "python",
   "nbconvert_exporter": "python",
   "pygments_lexer": "ipython2",
   "version": "2.7.12"
  }
 },
 "nbformat": 4,
 "nbformat_minor": 0
}
