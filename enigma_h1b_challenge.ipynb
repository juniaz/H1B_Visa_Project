{
 "cells": [
  {
   "cell_type": "code",
   "execution_count": 1,
   "metadata": {
    "collapsed": false
   },
   "outputs": [
    {
     "data": {
      "text/plain": [
       "'\\nEnigma Data Science Challenge\\n\\nJunia Zhang | 01.08.2016\\n\\nFor this exercise, you will be working with the H1B visa application data, one of the most popular datasets in Enigma. \\nAll questions refer to the 2014 data. Please include your code along with your answers.\\n'"
      ]
     },
     "execution_count": 1,
     "metadata": {},
     "output_type": "execute_result"
    }
   ],
   "source": [
    "\"\"\"\n",
    "Enigma Data Science Challenge\n",
    "\n",
    "Junia Zhang | 01.08.2016\n",
    "\n",
    "For this exercise, you will be working with the H1B visa application data, one of the most popular datasets in Enigma. \n",
    "All questions refer to the 2014 data. Please include your code along with your answers.\n",
    "\"\"\""
   ]
  },
  {
   "cell_type": "code",
   "execution_count": 2,
   "metadata": {
    "collapsed": false
   },
   "outputs": [],
   "source": [
    "import pandas as pd\n",
    "import numpy as np\n",
    "import math\n",
    "import matplotlib.pyplot as plt\n",
    "import seaborn as sns"
   ]
  },
  {
   "cell_type": "markdown",
   "metadata": {},
   "source": [
    "### Load in 2014 H1B visa application data\n",
    "#### Source: https://app.enigma.io/table/us.gov.dol.oflc.h1b.2014"
   ]
  },
  {
   "cell_type": "code",
   "execution_count": 3,
   "metadata": {
    "collapsed": true
   },
   "outputs": [],
   "source": [
    "df = pd.read_csv(\"enigma-us.gov.dol.oflc.h1b.2014-data.csv\")"
   ]
  },
  {
   "cell_type": "markdown",
   "metadata": {},
   "source": [
    "### Section 1: Warm Up (1/4)"
   ]
  },
  {
   "cell_type": "markdown",
   "metadata": {},
   "source": [
    "### 1.1 - NYC H-1B visa applications by company\n",
    "* Compare Total Workers by Employer Name \n",
    "* Filter based on whether Work City Location 1 OR Work City Location 2 contains 'New York' (+ variations)"
   ]
  },
  {
   "cell_type": "code",
   "execution_count": 4,
   "metadata": {
    "collapsed": false
   },
   "outputs": [
    {
     "data": {
      "text/plain": [
       "array(['lca_case_number', 'status', 'lca_case_submit', 'decision_date',\n",
       "       'visa_class', 'lca_case_employment_start_date',\n",
       "       'lca_case_employment_end_date', 'lca_case_employer_name',\n",
       "       'lca_case_employer_address', 'lca_case_employer_city',\n",
       "       'lca_case_employer_state', 'lca_case_employer_postal_code',\n",
       "       'lca_case_soc_code', 'lca_case_soc_name', 'lca_case_job_title',\n",
       "       'lca_case_wage_rate_from', 'lca_case_wage_rate_to',\n",
       "       'lca_case_wage_rate_unit', 'full_time_pos', 'total_workers',\n",
       "       'lca_case_workloc1_city', 'lca_case_workloc1_state', 'pw_1',\n",
       "       'pw_unit_1', 'pw_source_1', 'other_wage_source_1',\n",
       "       'yr_source_pub_1', 'lca_case_workloc2_city',\n",
       "       'lca_case_workloc2_state', 'pw_2', 'pw_unit_2', 'pw_source_2',\n",
       "       'other_wage_source_2', 'yr_source_pub_2', 'lca_case_naics_code',\n",
       "       'serialid'], dtype=object)"
      ]
     },
     "execution_count": 4,
     "metadata": {},
     "output_type": "execute_result"
    }
   ],
   "source": [
    "df.columns.values"
   ]
  },
  {
   "cell_type": "code",
   "execution_count": 5,
   "metadata": {
    "collapsed": false
   },
   "outputs": [],
   "source": [
    "c = df[['lca_case_employer_name','lca_case_workloc1_city','lca_case_workloc2_city','total_workers']]"
   ]
  },
  {
   "cell_type": "code",
   "execution_count": 6,
   "metadata": {
    "collapsed": false
   },
   "outputs": [],
   "source": [
    "nyc = c[c.lca_case_workloc1_city.str.contains(\"NEW YORK\", na=False) | c.lca_case_workloc2_city.str.contains(\"NEW YORK\", na=False) | c.lca_case_workloc1_city.str.contains(\"NYC\", na=False) | c.lca_case_workloc2_city.str.contains(\"NYC\", na=False)]"
   ]
  },
  {
   "cell_type": "code",
   "execution_count": 7,
   "metadata": {
    "collapsed": false
   },
   "outputs": [],
   "source": [
    "nyc = nyc[['lca_case_employer_name','total_workers']]\n",
    "nyc = nyc.groupby(['lca_case_employer_name']).sum().sort_values('total_workers',ascending = False)"
   ]
  },
  {
   "cell_type": "code",
   "execution_count": 8,
   "metadata": {
    "collapsed": false
   },
   "outputs": [],
   "source": [
    "filename = \"top_20_nyc_applicants.csv\"\n",
    "top_20 = nyc.head(20)\n",
    "top_20.to_csv(filename)"
   ]
  },
  {
   "cell_type": "code",
   "execution_count": 9,
   "metadata": {
    "collapsed": true
   },
   "outputs": [],
   "source": [
    "filename = \"full_ranked_nyc_applicants.csv\"\n",
    "nyc.to_csv(filename)"
   ]
  },
  {
   "cell_type": "markdown",
   "metadata": {},
   "source": [
    "### 1.2 - NYC and Mountain View Wages Comparison\n",
    "* For the purposes of this exercise, only looking at proposed wages set at 'Year' Wage Rate Unit"
   ]
  },
  {
   "cell_type": "code",
   "execution_count": 10,
   "metadata": {
    "collapsed": false
   },
   "outputs": [],
   "source": [
    "w = df[['lca_case_employer_name',\n",
    "       'lca_case_job_title',\n",
    "       'lca_case_wage_rate_from', \n",
    "       'lca_case_wage_rate_unit', \n",
    "       'full_time_pos', \n",
    "       'total_workers',\n",
    "       'lca_case_workloc1_city',\n",
    "       'pw_1',\n",
    "       'pw_unit_1', \n",
    "       'pw_source_1', \n",
    "       'other_wage_source_1',\n",
    "       'yr_source_pub_1', \n",
    "       'lca_case_workloc2_city',\n",
    "       'pw_2', \n",
    "       'pw_unit_2', \n",
    "       'pw_source_2',\n",
    "       'other_wage_source_2']]"
   ]
  },
  {
   "cell_type": "code",
   "execution_count": 11,
   "metadata": {
    "collapsed": true
   },
   "outputs": [],
   "source": [
    "ny = w[w.lca_case_workloc1_city.str.contains(\"NEW YORK\", na=False) | w.lca_case_workloc2_city.str.contains(\"NEW YORK\", na=False) | w.lca_case_workloc1_city.str.contains(\"NYC\", na=False) | w.lca_case_workloc2_city.str.contains(\"NYC\", na=False)]\n",
    "mv = w[w.lca_case_workloc1_city.str.contains(\"MOUNTAIN VIEW\", na=False) | w.lca_case_workloc2_city.str.contains(\"MOUNTAIN VIEW\", na=False)]"
   ]
  },
  {
   "cell_type": "code",
   "execution_count": 12,
   "metadata": {
    "collapsed": false
   },
   "outputs": [],
   "source": [
    "ny = ny[['lca_case_employer_name',\n",
    "       'lca_case_job_title',\n",
    "       'lca_case_wage_rate_from', \n",
    "       'lca_case_wage_rate_unit', \n",
    "       'full_time_pos', \n",
    "       'total_workers']]\n",
    "\n",
    "mv = mv[['lca_case_employer_name',\n",
    "       'lca_case_job_title',\n",
    "       'lca_case_wage_rate_from', \n",
    "       'lca_case_wage_rate_unit', \n",
    "       'full_time_pos', \n",
    "       'total_workers']]"
   ]
  },
  {
   "cell_type": "code",
   "execution_count": 13,
   "metadata": {
    "collapsed": false
   },
   "outputs": [],
   "source": [
    "nyy = ny[ny['lca_case_wage_rate_unit'] == 'Year']\n",
    "mvy = mv[mv['lca_case_wage_rate_unit'] == 'Year']"
   ]
  },
  {
   "cell_type": "code",
   "execution_count": 14,
   "metadata": {
    "collapsed": false
   },
   "outputs": [],
   "source": [
    "def total_wages(x):\n",
    "    return x['lca_case_wage_rate_from'] * x['total_workers']"
   ]
  },
  {
   "cell_type": "code",
   "execution_count": 15,
   "metadata": {
    "collapsed": false
   },
   "outputs": [
    {
     "name": "stderr",
     "output_type": "stream",
     "text": [
      "/Users/junia.zhang/anaconda2/lib/python2.7/site-packages/ipykernel/__main__.py:1: SettingWithCopyWarning: \n",
      "A value is trying to be set on a copy of a slice from a DataFrame.\n",
      "Try using .loc[row_indexer,col_indexer] = value instead\n",
      "\n",
      "See the caveats in the documentation: http://pandas.pydata.org/pandas-docs/stable/indexing.html#indexing-view-versus-copy\n",
      "  if __name__ == '__main__':\n",
      "/Users/junia.zhang/anaconda2/lib/python2.7/site-packages/ipykernel/__main__.py:2: SettingWithCopyWarning: \n",
      "A value is trying to be set on a copy of a slice from a DataFrame.\n",
      "Try using .loc[row_indexer,col_indexer] = value instead\n",
      "\n",
      "See the caveats in the documentation: http://pandas.pydata.org/pandas-docs/stable/indexing.html#indexing-view-versus-copy\n",
      "  from ipykernel import kernelapp as app\n"
     ]
    }
   ],
   "source": [
    "nyy['total_wages'] = nyy.apply(total_wages, axis = 1)\n",
    "mvy['total_wages'] = mvy.apply(total_wages, axis = 1)"
   ]
  },
  {
   "cell_type": "code",
   "execution_count": 16,
   "metadata": {
    "collapsed": false
   },
   "outputs": [],
   "source": [
    "def wage_mean(y):\n",
    "    return y.total_wages.sum()/y.total_workers.sum()"
   ]
  },
  {
   "cell_type": "code",
   "execution_count": 17,
   "metadata": {
    "collapsed": false
   },
   "outputs": [
    {
     "name": "stdout",
     "output_type": "stream",
     "text": [
      "The mean proposed annual wage rate in  New York is $89199.8\n",
      "The mean proposed annual wage rate in  Mountain View is $104033.8\n"
     ]
    }
   ],
   "source": [
    "mean_ny = wage_mean(nyy)\n",
    "mean_mv = wage_mean(mvy)\n",
    "\n",
    "print \"The mean proposed annual wage rate in  New York is \" + '$' + str(round(mean_ny,1))\n",
    "print \"The mean proposed annual wage rate in  Mountain View is \" + '$' + str(round(mean_mv,1))"
   ]
  },
  {
   "cell_type": "code",
   "execution_count": 18,
   "metadata": {
    "collapsed": false
   },
   "outputs": [
    {
     "name": "stderr",
     "output_type": "stream",
     "text": [
      "/Users/junia.zhang/anaconda2/lib/python2.7/site-packages/ipykernel/__main__.py:1: SettingWithCopyWarning: \n",
      "A value is trying to be set on a copy of a slice from a DataFrame.\n",
      "Try using .loc[row_indexer,col_indexer] = value instead\n",
      "\n",
      "See the caveats in the documentation: http://pandas.pydata.org/pandas-docs/stable/indexing.html#indexing-view-versus-copy\n",
      "  if __name__ == '__main__':\n",
      "/Users/junia.zhang/anaconda2/lib/python2.7/site-packages/ipykernel/__main__.py:2: SettingWithCopyWarning: \n",
      "A value is trying to be set on a copy of a slice from a DataFrame.\n",
      "Try using .loc[row_indexer,col_indexer] = value instead\n",
      "\n",
      "See the caveats in the documentation: http://pandas.pydata.org/pandas-docs/stable/indexing.html#indexing-view-versus-copy\n",
      "  from ipykernel import kernelapp as app\n"
     ]
    }
   ],
   "source": [
    "nyy['varw'] = ((nyy['lca_case_wage_rate_from'] - mean_ny) ** 2) * nyy['total_workers']\n",
    "mvy['varw'] = ((mvy['lca_case_wage_rate_from'] - mean_mv) ** 2) * mvy['total_workers']"
   ]
  },
  {
   "cell_type": "code",
   "execution_count": 19,
   "metadata": {
    "collapsed": true
   },
   "outputs": [],
   "source": [
    "def wage_var(z):\n",
    "    return z.varw.sum()/z.total_workers.sum()\n",
    "\n",
    "def wage_sd(z):\n",
    "    return math.sqrt(wage_var(z))"
   ]
  },
  {
   "cell_type": "code",
   "execution_count": 20,
   "metadata": {
    "collapsed": false
   },
   "outputs": [
    {
     "name": "stdout",
     "output_type": "stream",
     "text": [
      "The standard deviation of the proposed annual wage rates in  New York is $68983.4\n",
      "The standard deviation of the proposed annual wage rates in  Mountain View is $27223.8\n"
     ]
    }
   ],
   "source": [
    "variance_ny = wage_var(nyy)\n",
    "variance_mv = wage_var(mvy)\n",
    "\n",
    "stddev_ny = wage_sd(nyy)\n",
    "stddev_mv = wage_sd(mvy)\n",
    "\n",
    "print \"The standard deviation of the proposed annual wage rates in  New York is \" + '$' + str(round(stddev_ny,1))\n",
    "print \"The standard deviation of the proposed annual wage rates in  Mountain View is \" + '$' + str(round(stddev_mv,1))"
   ]
  },
  {
   "cell_type": "markdown",
   "metadata": {},
   "source": [
    "### Z-test to compare whether the two populations are statistically different\n",
    "#### Hypothesis: Wages proposed for Mountain View workers are significantly higher than wages proposed for New York workers"
   ]
  },
  {
   "cell_type": "code",
   "execution_count": 21,
   "metadata": {
    "collapsed": false
   },
   "outputs": [
    {
     "name": "stdout",
     "output_type": "stream",
     "text": [
      "The z-statistic for the two populations means is 38.98\n"
     ]
    }
   ],
   "source": [
    "z = (mean_mv - mean_ny)/math.sqrt(variance_mv/mvy.total_workers.sum() + variance_ny/nyy.total_workers.sum())\n",
    "print \"The z-statistic for the two populations means is \" + str(round(z,2))"
   ]
  },
  {
   "cell_type": "code",
   "execution_count": 22,
   "metadata": {
    "collapsed": true
   },
   "outputs": [],
   "source": [
    "def p_val(zs):\n",
    "    from scipy.stats import norm\n",
    "    return 2*(1 - norm.cdf(abs(z)))"
   ]
  },
  {
   "cell_type": "code",
   "execution_count": 23,
   "metadata": {
    "collapsed": false
   },
   "outputs": [
    {
     "name": "stdout",
     "output_type": "stream",
     "text": [
      "The p-value for the two populations means is 0.0\n"
     ]
    }
   ],
   "source": [
    "pv = p_val(z)\n",
    "print \"The p-value for the two populations means is \" + str(round(pv,2))"
   ]
  },
  {
   "cell_type": "markdown",
   "metadata": {},
   "source": [
    "### 1.3 - Relationship between H1B visas requested by an employer and the average wages proposed in NYC"
   ]
  },
  {
   "cell_type": "code",
   "execution_count": 24,
   "metadata": {
    "collapsed": true
   },
   "outputs": [],
   "source": [
    "rny = w[w.lca_case_workloc1_city.str.contains(\"NEW YORK\", na=False) | w.lca_case_workloc2_city.str.contains(\"NEW YORK\", na=False) | w.lca_case_workloc1_city.str.contains(\"NYC\", na=False) | w.lca_case_workloc2_city.str.contains(\"NYC\", na=False)]"
   ]
  },
  {
   "cell_type": "code",
   "execution_count": 25,
   "metadata": {
    "collapsed": false
   },
   "outputs": [],
   "source": [
    "rnyy = rny[rny['lca_case_wage_rate_unit'] == 'Year']\n",
    "\n",
    "rnyy = rnyy[['lca_case_employer_name',\n",
    "       'lca_case_wage_rate_from', \n",
    "       'total_workers']]"
   ]
  },
  {
   "cell_type": "code",
   "execution_count": 26,
   "metadata": {
    "collapsed": false
   },
   "outputs": [],
   "source": [
    "rnyy['tot'] = rnyy['lca_case_wage_rate_from'] * rnyy['total_workers']"
   ]
  },
  {
   "cell_type": "code",
   "execution_count": 27,
   "metadata": {
    "collapsed": false
   },
   "outputs": [],
   "source": [
    "r = rnyy.groupby('lca_case_employer_name').sum()\n",
    "r['avg_wage'] = r['tot']/r['total_workers']"
   ]
  },
  {
   "cell_type": "code",
   "execution_count": 28,
   "metadata": {
    "collapsed": false
   },
   "outputs": [],
   "source": [
    "r = r[['total_workers','avg_wage']]"
   ]
  },
  {
   "cell_type": "code",
   "execution_count": 29,
   "metadata": {
    "collapsed": false
   },
   "outputs": [
    {
     "name": "stderr",
     "output_type": "stream",
     "text": [
      "/Users/junia.zhang/anaconda2/lib/python2.7/site-packages/matplotlib/tight_layout.py:222: UserWarning: tight_layout : falling back to Agg renderer\n",
      "  warnings.warn(\"tight_layout : falling back to Agg renderer\")\n"
     ]
    }
   ],
   "source": [
    "sns.set(style=\"ticks\", context=\"talk\")\n",
    "\n",
    "g = sns.lmplot(x='total_workers', y='avg_wage', data=r, size=7)\n",
    "g.set_axis_labels(\"Total Number of Workers Requested\", \"Employer's Average Proposed Wage Rate\")\n",
    "\n",
    "g.savefig('workers_vs_wage.png')"
   ]
  },
  {
   "cell_type": "markdown",
   "metadata": {},
   "source": [
    "#### Remove outliers"
   ]
  },
  {
   "cell_type": "code",
   "execution_count": 30,
   "metadata": {
    "collapsed": true
   },
   "outputs": [],
   "source": [
    "rf = r[(r.avg_wage < 200000) & (r.total_workers < 10)]"
   ]
  },
  {
   "cell_type": "code",
   "execution_count": 31,
   "metadata": {
    "collapsed": true
   },
   "outputs": [],
   "source": [
    "gf = sns.lmplot(x='total_workers', y='avg_wage', data=rf, size=7)\n",
    "gf.set_axis_labels(\"Total Number of Workers Requested\", \"Employer's Average Proposed Wage Rate\")\n",
    "\n",
    "gf.savefig('workers_vs_wage_filtered.png')"
   ]
  },
  {
   "cell_type": "code",
   "execution_count": 32,
   "metadata": {
    "collapsed": false
   },
   "outputs": [
    {
     "name": "stdout",
     "output_type": "stream",
     "text": [
      "               total_workers  avg_wage\n",
      "total_workers       1.000000 -0.000894\n",
      "avg_wage           -0.000894  1.000000\n",
      "               total_workers  avg_wage\n",
      "total_workers       1.000000  0.110961\n",
      "avg_wage            0.110961  1.000000\n"
     ]
    }
   ],
   "source": [
    "print r.corr(method='pearson')\n",
    "print rf.corr(method='pearson')"
   ]
  }
 ],
 "metadata": {
  "anaconda-cloud": {},
  "kernelspec": {
   "display_name": "Python [Root]",
   "language": "python",
   "name": "Python [Root]"
  },
  "language_info": {
   "codemirror_mode": {
    "name": "ipython",
    "version": 2
   },
   "file_extension": ".py",
   "mimetype": "text/x-python",
   "name": "python",
   "nbconvert_exporter": "python",
   "pygments_lexer": "ipython2",
   "version": "2.7.12"
  }
 },
 "nbformat": 4,
 "nbformat_minor": 0
}
